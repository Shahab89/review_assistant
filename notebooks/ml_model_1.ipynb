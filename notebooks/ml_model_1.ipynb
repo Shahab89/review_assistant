{
 "cells": [
  {
   "cell_type": "code",
   "execution_count": 10,
   "metadata": {},
   "outputs": [
    {
     "name": "stdout",
     "output_type": "stream",
     "text": [
      "Requirement already satisfied: python-dotenv in /home/shahab/.pyenv/versions/3.10.6/envs/review_env/lib/python3.10/site-packages (1.0.1)\n"
     ]
    }
   ],
   "source": [
    "# Had to pip install jupyter first\n",
    "!pip install python-dotenv"
   ]
  },
  {
   "cell_type": "code",
   "execution_count": 1,
   "metadata": {},
   "outputs": [],
   "source": [
    "%load_ext autoreload\n",
    "%autoreload 2\n"
   ]
  },
  {
   "cell_type": "code",
   "execution_count": 20,
   "metadata": {},
   "outputs": [],
   "source": [
    "\n",
    "import os\n",
    "import sys\n",
    "from dotenv import load_dotenv\n",
    "load_dotenv()\n",
    "\n",
    "import pandas as pd\n",
    "\n",
    "\n",
    "from langchain.chains import RetrievalQA\n",
    "from langchain_text_splitters import RecursiveCharacterTextSplitter\n",
    "from langchain_text_splitters import Language\n",
    "from langchain_openai import OpenAIEmbeddings, ChatOpenAI, OpenAI\n",
    "from langchain_community.vectorstores import Chroma\n",
    "from langchain.schema.document import Document\n",
    "\n",
    "from langchain.callbacks.streaming_stdout import StreamingStdOutCallbackHandler\n",
    "from langchain.callbacks.streaming_stdout_final_only import FinalStreamingStdOutCallbackHandler\n",
    "from langchain.chains import LLMChain\n",
    "from langchain.llms import GPT4All\n",
    "from langchain.prompts import PromptTemplate\n",
    "\n",
    "\n",
    "from langchain.embeddings import HuggingFaceEmbeddings"
   ]
  },
  {
   "cell_type": "markdown",
   "metadata": {},
   "source": [
    "# Data"
   ]
  },
  {
   "cell_type": "code",
   "execution_count": 3,
   "metadata": {},
   "outputs": [],
   "source": [
    "df_reviews = pd.read_csv(\"dummy_data_new.csv\", index_col=0)"
   ]
  },
  {
   "cell_type": "code",
   "execution_count": 4,
   "metadata": {},
   "outputs": [
    {
     "data": {
      "text/html": [
       "<div>\n",
       "<style scoped>\n",
       "    .dataframe tbody tr th:only-of-type {\n",
       "        vertical-align: middle;\n",
       "    }\n",
       "\n",
       "    .dataframe tbody tr th {\n",
       "        vertical-align: top;\n",
       "    }\n",
       "\n",
       "    .dataframe thead th {\n",
       "        text-align: right;\n",
       "    }\n",
       "</style>\n",
       "<table border=\"1\" class=\"dataframe\">\n",
       "  <thead>\n",
       "    <tr style=\"text-align: right;\">\n",
       "      <th></th>\n",
       "      <th>Product Name</th>\n",
       "      <th>Product Description</th>\n",
       "      <th>Review Text</th>\n",
       "      <th>Rating</th>\n",
       "    </tr>\n",
       "  </thead>\n",
       "  <tbody>\n",
       "    <tr>\n",
       "      <th>0</th>\n",
       "      <td>iPhone 15</td>\n",
       "      <td>The Apple iPhone 15 redefines smartphone innov...</td>\n",
       "      <td>The iPhone 15 is a masterpiece! The sleek desi...</td>\n",
       "      <td>{\"durability\": 5, \"ease of use\": 5, \"pleasant ...</td>\n",
       "    </tr>\n",
       "    <tr>\n",
       "      <th>1</th>\n",
       "      <td>MacBook Pro 2023</td>\n",
       "      <td>Experience the ultimate in computing power wit...</td>\n",
       "      <td>The MacBook Pro 2023 is a game-changer! The pe...</td>\n",
       "      <td>{\"durability\": 5, \"ease of use\": 5, \"pleasant ...</td>\n",
       "    </tr>\n",
       "    <tr>\n",
       "      <th>2</th>\n",
       "      <td>Kindle Paperwhite</td>\n",
       "      <td>Enjoy reading your favorite books anytime, any...</td>\n",
       "      <td>The Kindle Paperwhite is a must-have for book ...</td>\n",
       "      <td>{\"durability\": 5, \"ease of use\": 5, \"pleasant ...</td>\n",
       "    </tr>\n",
       "    <tr>\n",
       "      <th>3</th>\n",
       "      <td>Canon EOS R5</td>\n",
       "      <td>Capture life's moments in stunning detail with...</td>\n",
       "      <td>The Canon EOS R5 is a game-changer! The image ...</td>\n",
       "      <td>{\"durability\": 5, \"ease of use\": 5, \"pleasant ...</td>\n",
       "    </tr>\n",
       "    <tr>\n",
       "      <th>4</th>\n",
       "      <td>Nike Air Zoom Pegasus 38</td>\n",
       "      <td>Experience unparalleled comfort and performanc...</td>\n",
       "      <td>The Nike Air Zoom Pegasus 38 is a game-changer...</td>\n",
       "      <td>{\"durability\": 5, \"ease of use\": 4, \"pleasant ...</td>\n",
       "    </tr>\n",
       "  </tbody>\n",
       "</table>\n",
       "</div>"
      ],
      "text/plain": [
       "               Product Name  \\\n",
       "0                 iPhone 15   \n",
       "1          MacBook Pro 2023   \n",
       "2         Kindle Paperwhite   \n",
       "3              Canon EOS R5   \n",
       "4  Nike Air Zoom Pegasus 38   \n",
       "\n",
       "                                 Product Description  \\\n",
       "0  The Apple iPhone 15 redefines smartphone innov...   \n",
       "1  Experience the ultimate in computing power wit...   \n",
       "2  Enjoy reading your favorite books anytime, any...   \n",
       "3  Capture life's moments in stunning detail with...   \n",
       "4  Experience unparalleled comfort and performanc...   \n",
       "\n",
       "                                         Review Text  \\\n",
       "0  The iPhone 15 is a masterpiece! The sleek desi...   \n",
       "1  The MacBook Pro 2023 is a game-changer! The pe...   \n",
       "2  The Kindle Paperwhite is a must-have for book ...   \n",
       "3  The Canon EOS R5 is a game-changer! The image ...   \n",
       "4  The Nike Air Zoom Pegasus 38 is a game-changer...   \n",
       "\n",
       "                                              Rating  \n",
       "0  {\"durability\": 5, \"ease of use\": 5, \"pleasant ...  \n",
       "1  {\"durability\": 5, \"ease of use\": 5, \"pleasant ...  \n",
       "2  {\"durability\": 5, \"ease of use\": 5, \"pleasant ...  \n",
       "3  {\"durability\": 5, \"ease of use\": 5, \"pleasant ...  \n",
       "4  {\"durability\": 5, \"ease of use\": 4, \"pleasant ...  "
      ]
     },
     "execution_count": 4,
     "metadata": {},
     "output_type": "execute_result"
    }
   ],
   "source": [
    "df_reviews.head()"
   ]
  },
  {
   "cell_type": "code",
   "execution_count": 5,
   "metadata": {},
   "outputs": [
    {
     "data": {
      "text/plain": [
       "(109, 4)"
      ]
     },
     "execution_count": 5,
     "metadata": {},
     "output_type": "execute_result"
    }
   ],
   "source": [
    "df_reviews.shape"
   ]
  },
  {
   "cell_type": "code",
   "execution_count": 6,
   "metadata": {},
   "outputs": [
    {
     "data": {
      "text/plain": [
       "'Game of Thrones: A Song of Ice and Fire'"
      ]
     },
     "execution_count": 6,
     "metadata": {},
     "output_type": "execute_result"
    }
   ],
   "source": [
    "# Check out some descriptions to use as input\n",
    "df_reviews[\"Product Name\"].sample(1).iloc[0]"
   ]
  },
  {
   "cell_type": "markdown",
   "metadata": {},
   "source": [
    "# Criteria generation"
   ]
  },
  {
   "cell_type": "markdown",
   "metadata": {},
   "source": [
    "### A) Langchain - OpenAI"
   ]
  },
  {
   "cell_type": "markdown",
   "metadata": {},
   "source": []
  },
  {
   "cell_type": "code",
   "execution_count": 7,
   "metadata": {},
   "outputs": [],
   "source": [
    "# !pip --quiet install langchain langchain-community langchain-openai chromadb"
   ]
  },
  {
   "cell_type": "code",
   "execution_count": 8,
   "metadata": {},
   "outputs": [],
   "source": [
    "\n",
    "def get_text_chunks(text):\n",
    "    text_splitter = RecursiveCharacterTextSplitter(chunk_size=500, chunk_overlap=100, )\n",
    "    docs = [Document(page_content=x) for x in text_splitter.split_text(text)]\n",
    "    return docs\n",
    "\n",
    "\n",
    "def embed_texts_openai(texts, openai_api_key):\n",
    "    print(f\"Embedding {len(texts)} texts...\", end=' ')\n",
    "    # Instantiate an embedder\n",
    "    embedder = OpenAIEmbeddings(openai_api_key=openai_api_key)\n",
    "    # Use the embedder to populate a Chroma vector store with our texts.\n",
    "    doc_search = Chroma.from_documents(texts, embedder)\n",
    "    print(\"✅\")\n",
    "    return doc_search\n",
    "\n",
    "\n",
    "def run_qa_openai(doc_search, prompt, openai_api_key):\n",
    "    print(f\"Running QA...\", end=' ')\n",
    "\n",
    "    # Retrieval QA\n",
    "    # - chain_type=\"stuff\": the model 'stuffs' all our texts into a single prompt (sufficiently small)\n",
    "    # - model: latest GPT-3.5-Turbo model.\n",
    "    qa = RetrievalQA.from_chain_type(\n",
    "        llm=ChatOpenAI(name=\"gpt-3.5-turbo\", api_key=openai_api_key),\n",
    "        chain_type=\"stuff\",\n",
    "        retriever=doc_search.as_retriever(search_kwargs={\"k\": 1})  # 1 doc to return max\n",
    "    )\n",
    "\n",
    "    answer = qa.invoke(prompt)\n",
    "    print(\"✅\")\n",
    "    return answer[\"result\"]"
   ]
  },
  {
   "cell_type": "code",
   "execution_count": 9,
   "metadata": {},
   "outputs": [
    {
     "data": {
      "text/plain": [
       "[Document(page_content=\"Nike Men's Revolution 5 Running Shoes\")]"
      ]
     },
     "execution_count": 9,
     "metadata": {},
     "output_type": "execute_result"
    }
   ],
   "source": [
    "OPEN_API_KEY = os.environ.get('OPENAI_API_KEY')\n",
    "PRODUCT_INPUT = \"Nike Men's Revolution 5 Running Shoes\"\n",
    "\n",
    "\n",
    "chunks = get_text_chunks(PRODUCT_INPUT)\n",
    "chunks"
   ]
  },
  {
   "cell_type": "code",
   "execution_count": 10,
   "metadata": {},
   "outputs": [
    {
     "name": "stdout",
     "output_type": "stream",
     "text": [
      "Embedding 1 texts... ✅\n"
     ]
    },
    {
     "data": {
      "text/plain": [
       "<langchain_community.vectorstores.chroma.Chroma at 0x7f67badd74f0>"
      ]
     },
     "execution_count": 10,
     "metadata": {},
     "output_type": "execute_result"
    }
   ],
   "source": [
    "doc_search = embed_texts_openai(chunks, OPEN_API_KEY)\n",
    "doc_search"
   ]
  },
  {
   "cell_type": "code",
   "execution_count": 11,
   "metadata": {},
   "outputs": [
    {
     "name": "stdout",
     "output_type": "stream",
     "text": [
      "Running QA... ✅\n",
      "Product: Nike Men's Revolution 5 Running Shoes\n",
      "\n",
      "Some rating criteria:\n",
      "1. Comfort\n",
      "2. Durability\n",
      "3. Fit\n",
      "4. Cushioning\n",
      "5. Design\n",
      "6. Breathability\n"
     ]
    }
   ],
   "source": [
    "prompt = \"\"\"\n",
    "Given this product title, please select between 3 and 6 criteria to rate in order to compose a product review.\n",
    "\"\"\"\n",
    "answer = run_qa_openai(doc_search, prompt, OPEN_API_KEY)\n",
    "\n",
    "print(f\"Product: {PRODUCT_INPUT}\\n\")\n",
    "print(f\"Some rating criteria:\\n{answer}\")"
   ]
  },
  {
   "cell_type": "markdown",
   "metadata": {},
   "source": [
    "### B) Langchain - GPT4 all products and reviews"
   ]
  },
  {
   "cell_type": "markdown",
   "metadata": {},
   "source": [
    "### Model\n",
    "\n",
    "Pick a model from the \"Model Explorer\" section on the [GPT4All page](https://gpt4all.io/index.html)."
   ]
  },
  {
   "cell_type": "code",
   "execution_count": 12,
   "metadata": {},
   "outputs": [
    {
     "name": "stdout",
     "output_type": "stream",
     "text": [
      "  % Total    % Received % Xferd  Average Speed   Time    Time     Time  Current\n",
      "                                 Dload  Upload   Total   Spent    Left  Speed\n",
      "100 1888M  100 1888M    0     0  16.9M      0  0:01:51  0:01:51 --:--:-- 12.5MM    0     0  17.4M      0  0:01:48  0:00:20  0:01:28 16.7M\n",
      "total 5.5G\n",
      "-rw-r--r-- 1 shahab shahab 3.6G Jun 14 02:07 orca-2-7b.Q4_0.gguf\n",
      "-rw-r--r-- 1 shahab shahab 1.9G Jun 14 14:58 orca-mini-3b-gguf2-q4_0.gguf\n"
     ]
    }
   ],
   "source": [
    "#MODEL_NAME = 'orca-2-7b.Q4_0.gguf'  # Change here\n",
    "#MODEL_NAME = 'mistral-7b-openorca.gguf2.Q4_0.gguf'\n",
    "MODEL_NAME = 'orca-mini-3b-gguf2-q4_0.gguf'\n",
    "MODEL_PATH = '../models/' + MODEL_NAME\n",
    "\n",
    "# -C - option to continue transfer automatically (so reuse file if already downloaded)\n",
    "!curl -C - -o {MODEL_PATH} https://gpt4all.io/models/gguf/{MODEL_NAME}\n",
    "!ls -lh ../models"
   ]
  },
  {
   "cell_type": "code",
   "execution_count": 13,
   "metadata": {},
   "outputs": [
    {
     "name": "stderr",
     "output_type": "stream",
     "text": [
      "Failed to load libllamamodel-mainline-cuda.so: dlopen: libcudart.so.12: cannot open shared object file: No such file or directory\n",
      "Failed to load libllamamodel-mainline-cuda-avxonly.so: dlopen: libcudart.so.12: cannot open shared object file: No such file or directory\n"
     ]
    }
   ],
   "source": [
    "# Callback that supports token-wise streaming but will only return the final output\n",
    "# rather than intermediary steps\n",
    "callbacks = [FinalStreamingStdOutCallbackHandler()]\n",
    "\n",
    "# verbose=True is required for the callback manager\n",
    "llm = GPT4All(model=MODEL_PATH, callbacks=callbacks, verbose=True)"
   ]
  },
  {
   "cell_type": "markdown",
   "metadata": {},
   "source": [
    "### LLM chain"
   ]
  },
  {
   "cell_type": "code",
   "execution_count": null,
   "metadata": {},
   "outputs": [],
   "source": [
    "original_prompt = \"\"\"\n",
    "For this product, please produce exactly 6 criteria that could be rated by a user for a review. No more details needed. Each criterion should be numbered and described in detail. Here’s an example format:\n",
    "\n",
    "1. Comfort - How comfortable are these shoes?\n",
    "2. Performance - Are these shoes good at providing performance?\n",
    "3. Style - Do these shoes have a stylish design?\n",
    "4. Durability - Can these shoes withstand wear and tear?\n",
    "5. Price - How much are these shoes compared to similar products in the market?\n",
    "6. Size - Are these shoes available in different sizes?\n",
    "\"\"\"\n",
    "\n",
    "template = f\"\"\"Product: '{{product_type}}'\n",
    "{original_prompt}\"\"\"\n",
    "prompt = PromptTemplate(template=template, input_variables=[\"product_type\"])"
   ]
  },
  {
   "cell_type": "code",
   "execution_count": null,
   "metadata": {},
   "outputs": [
    {
     "data": {
      "text/plain": [
       "LLMChain(prompt=PromptTemplate(input_variables=['product_type'], template=\"Product: '{product_type}'\\n\\nFor this product, please produce between 3 and 6 criteria, with at least 3, that could be rated by a user for a review. do not rate it. No more details needed just only the criteria. Each criterion should be numbered and described in detail.\\n\\n\"), llm=GPT4All(verbose=True, callbacks=[<langchain.callbacks.streaming_stdout_final_only.FinalStreamingStdOutCallbackHandler object at 0x7f67badd7fd0>], model='../models/orca-mini-3b-gguf2-q4_0.gguf', client=<gpt4all.gpt4all.GPT4All object at 0x7f67badd4730>))"
      ]
     },
     "execution_count": 22,
     "metadata": {},
     "output_type": "execute_result"
    }
   ],
   "source": [
    "# Create the LLM chain\n",
    "llm_chain = LLMChain(prompt=prompt, llm=llm, return_final_only=True)\n",
    "llm_chain"
   ]
  },
  {
   "cell_type": "code",
   "execution_count": null,
   "metadata": {},
   "outputs": [
    {
     "name": "stdout",
     "output_type": "stream",
     "text": [
      "1. Comfort - How comfortable are these shoes? (5-10)\n",
      "2. Performance - Are these shoes good at providing performance? (8-10)\n",
      "3. Style - Do these shoes have a stylish design? (9-10)\n",
      "4. Durability - Can these shoes withstand wear and tear? (7-10)\n",
      "5. Price - How much are these shoes compared to similar products in the market? (6-8)\n",
      "6. Size - Are these shoes available in different sizes? (1-2)\n",
      "CPU times: user 4min 5s, sys: 7.29 s, total: 4min 12s\n",
      "Wall time: 1min 4s\n"
     ]
    }
   ],
   "source": [
    "%%time\n",
    "res = llm_chain.run(product_type=PRODUCT_INPUT)\n",
    "# Note that the result needs to be printed explicitly to be shown properly since\n",
    "# it contains line returns\n",
    "print(res)"
   ]
  },
  {
   "cell_type": "markdown",
   "metadata": {},
   "source": [
    "### Retrieval QA chain\n",
    "#### Prompt only\n"
   ]
  },
  {
   "cell_type": "code",
   "execution_count": 25,
   "metadata": {},
   "outputs": [],
   "source": [
    "#!pip install sentence-transformers --quiet"
   ]
  },
  {
   "cell_type": "code",
   "execution_count": 26,
   "metadata": {},
   "outputs": [],
   "source": [
    "EMBEDDING_MODEL = 'sentence-transformers/all-MiniLM-L6-v2'\n",
    "PERSIST_DIRECTORY = '../db/chroma_3/'\n",
    "\n",
    "\n",
    "def embed_texts_hg(texts):\n",
    "    print(f\"Embedding {len(texts)} texts...\", end=' ')\n",
    "\n",
    "    embedder = HuggingFaceEmbeddings(model_name=EMBEDDING_MODEL)\n",
    "    vector_db = Chroma.from_documents(\n",
    "        documents=texts,\n",
    "        embedding=embedder,\n",
    "        persist_directory=PERSIST_DIRECTORY\n",
    "    )\n",
    "    print(\"✅\")\n",
    "    return vector_db"
   ]
  },
  {
   "cell_type": "code",
   "execution_count": 27,
   "metadata": {},
   "outputs": [
    {
     "data": {
      "text/plain": [
       "[Document(page_content=\"Nike Men's Revolution 5 Running Shoes\")]"
      ]
     },
     "execution_count": 27,
     "metadata": {},
     "output_type": "execute_result"
    }
   ],
   "source": [
    "chunks\n"
   ]
  },
  {
   "cell_type": "code",
   "execution_count": 28,
   "metadata": {},
   "outputs": [
    {
     "name": "stdout",
     "output_type": "stream",
     "text": [
      "Embedding 1 texts... "
     ]
    },
    {
     "name": "stderr",
     "output_type": "stream",
     "text": [
      "/home/shahab/.pyenv/versions/3.10.6/envs/review_env/lib/python3.10/site-packages/langchain_core/_api/deprecation.py:119: LangChainDeprecationWarning: The class `HuggingFaceEmbeddings` was deprecated in LangChain 0.2.2 and will be removed in 0.3.0. An updated version of the class exists in the langchain-huggingface package and should be used instead. To use it run `pip install -U langchain-huggingface` and import as `from langchain_huggingface import HuggingFaceEmbeddings`.\n",
      "  warn_deprecated(\n",
      "/home/shahab/.pyenv/versions/3.10.6/envs/review_env/lib/python3.10/site-packages/sentence_transformers/cross_encoder/CrossEncoder.py:11: TqdmWarning: IProgress not found. Please update jupyter and ipywidgets. See https://ipywidgets.readthedocs.io/en/stable/user_install.html\n",
      "  from tqdm.autonotebook import tqdm, trange\n",
      "/home/shahab/.pyenv/versions/3.10.6/envs/review_env/lib/python3.10/site-packages/huggingface_hub/file_download.py:1132: FutureWarning: `resume_download` is deprecated and will be removed in version 1.0.0. Downloads always resume when possible. If you want to force a new download, use `force_download=True`.\n",
      "  warnings.warn(\n"
     ]
    },
    {
     "name": "stdout",
     "output_type": "stream",
     "text": [
      "✅\n"
     ]
    },
    {
     "data": {
      "text/plain": [
       "<langchain_community.vectorstores.chroma.Chroma at 0x7f66238debf0>"
      ]
     },
     "execution_count": 28,
     "metadata": {},
     "output_type": "execute_result"
    }
   ],
   "source": [
    "doc_search = embed_texts_hg(chunks)\n",
    "doc_search"
   ]
  },
  {
   "cell_type": "code",
   "execution_count": 29,
   "metadata": {},
   "outputs": [
    {
     "name": "stdout",
     "output_type": "stream",
     "text": [
      "Running QA... ✅\n",
      "\n",
      "1. Comfort - The shoes provide excellent comfort due to their lightweight design and air cushion sole.\n",
      "2. Performance - The shoes are designed for long-distance running, providing adequate support and cushioning for the feet.\n",
      "3. Style - The shoes have a sleek and modern design that is both stylish and functional.\n",
      "4. Durability - The shoes are made with high-quality materials that make them durable enough to withstand regular use and wear.\n",
      "5. Price - The shoes are competitively priced, making them an affordable option for those looking for a reliable running shoe.\n",
      "CPU times: user 39min 25s, sys: 1min 40s, total: 41min 6s\n",
      "Wall time: 18min 33s\n"
     ]
    }
   ],
   "source": [
    "%%time\n",
    "\n",
    "def run_qa_hg(doc_search, prompt):\n",
    "    print(f\"Running QA...\", end=' ')\n",
    "\n",
    "    qa = RetrievalQA.from_chain_type(\n",
    "        llm=llm,\n",
    "        chain_type=\"stuff\",  # the model 'stuffs' all our texts into a single prompt (sufficiently small)\n",
    "        retriever=doc_search.as_retriever(search_kwargs={\"k\": 1}),\n",
    "        return_source_documents=False,\n",
    "        verbose=False,\n",
    "    )\n",
    "\n",
    "    answer = qa.invoke(prompt)\n",
    "    print(\"✅\")\n",
    "    return answer[\"result\"]\n",
    "\n",
    "answer = run_qa_hg(doc_search, original_prompt)\n",
    "print(answer)"
   ]
  },
  {
   "cell_type": "code",
   "execution_count": null,
   "metadata": {},
   "outputs": [],
   "source": []
  },
  {
   "cell_type": "code",
   "execution_count": null,
   "metadata": {},
   "outputs": [],
   "source": []
  },
  {
   "cell_type": "code",
   "execution_count": null,
   "metadata": {},
   "outputs": [],
   "source": []
  },
  {
   "cell_type": "code",
   "execution_count": null,
   "metadata": {},
   "outputs": [],
   "source": []
  },
  {
   "cell_type": "code",
   "execution_count": null,
   "metadata": {},
   "outputs": [],
   "source": []
  },
  {
   "cell_type": "code",
   "execution_count": null,
   "metadata": {},
   "outputs": [],
   "source": []
  },
  {
   "cell_type": "code",
   "execution_count": null,
   "metadata": {},
   "outputs": [],
   "source": []
  },
  {
   "cell_type": "code",
   "execution_count": 40,
   "metadata": {},
   "outputs": [
    {
     "name": "stdout",
     "output_type": "stream",
     "text": [
      "In the heart of a bustling city, amidst the towering skyscrapers and the constant hum of traffic, there lies a hidden gem—a small, serene park known to few but cherished by those who do. The park, with its lush greenery and tranquil ponds, offers a stark contrast to the surrounding urban jungle. Tall trees provide shade and a sense of calm, while birds chirp melodiously, creating a soothing symphony that drowns out the city's noise. Winding paths lead to quaint benches and secluded spots,\n",
      "symphony that drowns out the city's noise. Winding paths lead to quaint benches and secluded spots, perfect for contemplation or a quiet read. It is a place where time seems to slow down, allowing visitors to escape the rush and reconnect with nature, even if just for a moment.\n"
     ]
    },
    {
     "data": {
      "text/plain": [
       "2"
      ]
     },
     "execution_count": 40,
     "metadata": {},
     "output_type": "execute_result"
    }
   ],
   "source": [
    "text = \" In the heart of a bustling city, amidst the towering skyscrapers and the constant hum of traffic, there lies a hidden gem—a small, serene park known to few but cherished by those who do. The park, with its lush greenery and tranquil ponds, offers a stark contrast to the surrounding urban jungle. Tall trees provide shade and a sense of calm, while birds chirp melodiously, creating a soothing symphony that drowns out the city's noise. Winding paths lead to quaint benches and secluded spots, perfect for contemplation or a quiet read. It is a place where time seems to slow down, allowing visitors to escape the rush and reconnect with nature, even if just for a moment.\"\n",
    "text_splitter = RecursiveCharacterTextSplitter(chunk_size=500, chunk_overlap=100, )\n",
    "page = text_splitter.split_text(text)\n",
    "print(page[0])\n",
    "print(page[1])\n",
    "len(page)\n",
    "docs = [Document(page_content=x) for x in page]"
   ]
  },
  {
   "cell_type": "code",
   "execution_count": 51,
   "metadata": {},
   "outputs": [
    {
     "data": {
      "text/plain": [
       "<langchain_community.vectorstores.chroma.Chroma at 0x7f7bb4d38d90>"
      ]
     },
     "execution_count": 51,
     "metadata": {},
     "output_type": "execute_result"
    }
   ],
   "source": [
    "\n",
    "OPEN_API_KEY = os.environ.get('OPENAI_API_KEY')\n",
    "embedder = OpenAIEmbeddings(openai_api_key=OPEN_API_KEY)\n",
    "doc_search = Chroma.from_documents(docs, embedder)\n",
    "doc_search"
   ]
  },
  {
   "cell_type": "code",
   "execution_count": 58,
   "metadata": {},
   "outputs": [
    {
     "data": {
      "text/plain": [
       "{'query': 'which city is the capital of Iran',\n",
       " 'result': 'The capital of Iran is Tehran.'}"
      ]
     },
     "execution_count": 58,
     "metadata": {},
     "output_type": "execute_result"
    }
   ],
   "source": [
    "# prompt = \"\"\"\n",
    "# Given this product title, please select between 3 and 6 criteria to rate in order to compose a product review.\n",
    "# \"\"\"\n",
    "prompt = 'which city is the capital of Iran'\n",
    "qa = RetrievalQA.from_chain_type(\n",
    "        llm=ChatOpenAI(model_name=\"gpt-3.5-turbo\", openai_api_key=OPEN_API_KEY),\n",
    "        chain_type=\"stuff\",\n",
    "        retriever=doc_search.as_retriever(search_kwargs={\"k\": 1})  # 1 doc to return max\n",
    "    )\n",
    "\n",
    "answer = qa.invoke(prompt)\n",
    "answer"
   ]
  },
  {
   "cell_type": "code",
   "execution_count": null,
   "metadata": {},
   "outputs": [],
   "source": []
  }
 ],
 "metadata": {
  "kernelspec": {
   "display_name": "env_review",
   "language": "python",
   "name": "python3"
  },
  "language_info": {
   "codemirror_mode": {
    "name": "ipython",
    "version": 3
   },
   "file_extension": ".py",
   "mimetype": "text/x-python",
   "name": "python",
   "nbconvert_exporter": "python",
   "pygments_lexer": "ipython3",
   "version": "3.10.6"
  }
 },
 "nbformat": 4,
 "nbformat_minor": 2
}
