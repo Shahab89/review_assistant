{
 "cells": [
  {
   "cell_type": "code",
   "execution_count": 10,
   "metadata": {},
   "outputs": [
    {
     "name": "stdout",
     "output_type": "stream",
     "text": [
      "Requirement already satisfied: python-dotenv in /home/shahab/.pyenv/versions/3.10.6/envs/review_env/lib/python3.10/site-packages (1.0.1)\n"
     ]
    }
   ],
   "source": [
    "# Had to pip install jupyter first\n",
    "#!pip install python-dotenv"
   ]
  },
  {
   "cell_type": "code",
   "execution_count": 1,
   "metadata": {},
   "outputs": [],
   "source": [
    "%load_ext autoreload\n",
    "%autoreload 2\n"
   ]
  },
  {
   "cell_type": "code",
   "execution_count": 39,
   "metadata": {},
   "outputs": [],
   "source": [
    "\n",
    "import os\n",
    "import sys\n",
    "from dotenv import load_dotenv\n",
    "load_dotenv()\n",
    "\n",
    "import pandas as pd\n",
    "\n",
    "\n",
    "from langchain.chains import RetrievalQA\n",
    "from langchain_text_splitters import RecursiveCharacterTextSplitter\n",
    "from langchain_text_splitters import Language\n",
    "from langchain_openai import OpenAIEmbeddings, ChatOpenAI, OpenAI\n",
    "from langchain_community.vectorstores import Chroma\n",
    "from langchain.schema.document import Document\n",
    "\n",
    "from langchain.callbacks.streaming_stdout import StreamingStdOutCallbackHandler\n",
    "from langchain.callbacks.streaming_stdout_final_only import FinalStreamingStdOutCallbackHandler\n",
    "from langchain.chains import LLMChain\n",
    "from langchain.llms import GPT4All\n",
    "from langchain.prompts import PromptTemplate\n",
    "\n",
    "\n",
    "#from langchain.embeddings import HuggingFaceEmbeddings\n",
    "from langchain_huggingface import HuggingFaceEmbeddings\n",
    "\n",
    "\n",
    "from langchain_community.document_loaders import TextLoader"
   ]
  },
  {
   "cell_type": "markdown",
   "metadata": {},
   "source": [
    "# Data"
   ]
  },
  {
   "cell_type": "code",
   "execution_count": 3,
   "metadata": {},
   "outputs": [],
   "source": [
    "df_reviews = pd.read_csv(\"dummy_data_new.csv\", index_col=0)"
   ]
  },
  {
   "cell_type": "code",
   "execution_count": 4,
   "metadata": {},
   "outputs": [
    {
     "data": {
      "text/html": [
       "<div>\n",
       "<style scoped>\n",
       "    .dataframe tbody tr th:only-of-type {\n",
       "        vertical-align: middle;\n",
       "    }\n",
       "\n",
       "    .dataframe tbody tr th {\n",
       "        vertical-align: top;\n",
       "    }\n",
       "\n",
       "    .dataframe thead th {\n",
       "        text-align: right;\n",
       "    }\n",
       "</style>\n",
       "<table border=\"1\" class=\"dataframe\">\n",
       "  <thead>\n",
       "    <tr style=\"text-align: right;\">\n",
       "      <th></th>\n",
       "      <th>Product Name</th>\n",
       "      <th>Product Description</th>\n",
       "      <th>Review Text</th>\n",
       "      <th>Rating</th>\n",
       "    </tr>\n",
       "  </thead>\n",
       "  <tbody>\n",
       "    <tr>\n",
       "      <th>0</th>\n",
       "      <td>iPhone 15</td>\n",
       "      <td>The Apple iPhone 15 redefines smartphone innov...</td>\n",
       "      <td>The iPhone 15 is a masterpiece! The sleek desi...</td>\n",
       "      <td>{\"durability\": 5, \"ease of use\": 5, \"pleasant ...</td>\n",
       "    </tr>\n",
       "    <tr>\n",
       "      <th>1</th>\n",
       "      <td>MacBook Pro 2023</td>\n",
       "      <td>Experience the ultimate in computing power wit...</td>\n",
       "      <td>The MacBook Pro 2023 is a game-changer! The pe...</td>\n",
       "      <td>{\"durability\": 5, \"ease of use\": 5, \"pleasant ...</td>\n",
       "    </tr>\n",
       "    <tr>\n",
       "      <th>2</th>\n",
       "      <td>Kindle Paperwhite</td>\n",
       "      <td>Enjoy reading your favorite books anytime, any...</td>\n",
       "      <td>The Kindle Paperwhite is a must-have for book ...</td>\n",
       "      <td>{\"durability\": 5, \"ease of use\": 5, \"pleasant ...</td>\n",
       "    </tr>\n",
       "    <tr>\n",
       "      <th>3</th>\n",
       "      <td>Canon EOS R5</td>\n",
       "      <td>Capture life's moments in stunning detail with...</td>\n",
       "      <td>The Canon EOS R5 is a game-changer! The image ...</td>\n",
       "      <td>{\"durability\": 5, \"ease of use\": 5, \"pleasant ...</td>\n",
       "    </tr>\n",
       "    <tr>\n",
       "      <th>4</th>\n",
       "      <td>Nike Air Zoom Pegasus 38</td>\n",
       "      <td>Experience unparalleled comfort and performanc...</td>\n",
       "      <td>The Nike Air Zoom Pegasus 38 is a game-changer...</td>\n",
       "      <td>{\"durability\": 5, \"ease of use\": 4, \"pleasant ...</td>\n",
       "    </tr>\n",
       "  </tbody>\n",
       "</table>\n",
       "</div>"
      ],
      "text/plain": [
       "               Product Name  \\\n",
       "0                 iPhone 15   \n",
       "1          MacBook Pro 2023   \n",
       "2         Kindle Paperwhite   \n",
       "3              Canon EOS R5   \n",
       "4  Nike Air Zoom Pegasus 38   \n",
       "\n",
       "                                 Product Description  \\\n",
       "0  The Apple iPhone 15 redefines smartphone innov...   \n",
       "1  Experience the ultimate in computing power wit...   \n",
       "2  Enjoy reading your favorite books anytime, any...   \n",
       "3  Capture life's moments in stunning detail with...   \n",
       "4  Experience unparalleled comfort and performanc...   \n",
       "\n",
       "                                         Review Text  \\\n",
       "0  The iPhone 15 is a masterpiece! The sleek desi...   \n",
       "1  The MacBook Pro 2023 is a game-changer! The pe...   \n",
       "2  The Kindle Paperwhite is a must-have for book ...   \n",
       "3  The Canon EOS R5 is a game-changer! The image ...   \n",
       "4  The Nike Air Zoom Pegasus 38 is a game-changer...   \n",
       "\n",
       "                                              Rating  \n",
       "0  {\"durability\": 5, \"ease of use\": 5, \"pleasant ...  \n",
       "1  {\"durability\": 5, \"ease of use\": 5, \"pleasant ...  \n",
       "2  {\"durability\": 5, \"ease of use\": 5, \"pleasant ...  \n",
       "3  {\"durability\": 5, \"ease of use\": 5, \"pleasant ...  \n",
       "4  {\"durability\": 5, \"ease of use\": 4, \"pleasant ...  "
      ]
     },
     "execution_count": 4,
     "metadata": {},
     "output_type": "execute_result"
    }
   ],
   "source": [
    "df_reviews.head()"
   ]
  },
  {
   "cell_type": "code",
   "execution_count": 5,
   "metadata": {},
   "outputs": [
    {
     "data": {
      "text/plain": [
       "(109, 4)"
      ]
     },
     "execution_count": 5,
     "metadata": {},
     "output_type": "execute_result"
    }
   ],
   "source": [
    "df_reviews.shape"
   ]
  },
  {
   "cell_type": "code",
   "execution_count": 6,
   "metadata": {},
   "outputs": [
    {
     "data": {
      "text/plain": [
       "'Cuisinart ICE-21 1.5 Quart Frozen Yogurt-Ice Cream Maker'"
      ]
     },
     "execution_count": 6,
     "metadata": {},
     "output_type": "execute_result"
    }
   ],
   "source": [
    "# Check out some descriptions to use as input\n",
    "df_reviews[\"Product Name\"].sample(1).iloc[0]"
   ]
  },
  {
   "cell_type": "markdown",
   "metadata": {},
   "source": [
    "# Criteria generation"
   ]
  },
  {
   "cell_type": "markdown",
   "metadata": {},
   "source": [
    "### A) Langchain - OpenAI"
   ]
  },
  {
   "cell_type": "markdown",
   "metadata": {},
   "source": []
  },
  {
   "cell_type": "code",
   "execution_count": 7,
   "metadata": {},
   "outputs": [],
   "source": [
    "# !pip --quiet install langchain langchain-community langchain-openai chromadb"
   ]
  },
  {
   "cell_type": "code",
   "execution_count": 8,
   "metadata": {},
   "outputs": [],
   "source": [
    "\n",
    "def get_text_chunks(text):\n",
    "    text_splitter = RecursiveCharacterTextSplitter(chunk_size=500, chunk_overlap=100, )\n",
    "    docs = [Document(page_content=x) for x in text_splitter.split_text(text)]\n",
    "    return docs\n",
    "\n",
    "\n",
    "def embed_texts_openai(texts, openai_api_key):\n",
    "    print(f\"Embedding {len(texts)} texts...\", end=' ')\n",
    "    # Instantiate an embedder\n",
    "    embedder = OpenAIEmbeddings(openai_api_key=openai_api_key)\n",
    "    # Use the embedder to populate a Chroma vector store with our texts.\n",
    "    doc_search = Chroma.from_documents(texts, embedder)\n",
    "    print(\"✅\")\n",
    "    return doc_search\n",
    "\n",
    "\n",
    "def run_qa_openai(doc_search, prompt, openai_api_key):\n",
    "    print(f\"Running QA...\", end=' ')\n",
    "\n",
    "    # Retrieval QA\n",
    "    # - chain_type=\"stuff\": the model 'stuffs' all our texts into a single prompt (sufficiently small)\n",
    "    # - model: latest GPT-3.5-Turbo model.\n",
    "    qa = RetrievalQA.from_chain_type(\n",
    "        llm=ChatOpenAI(name=\"gpt-3.5-turbo\", api_key=openai_api_key),\n",
    "        chain_type=\"stuff\",\n",
    "        retriever=doc_search.as_retriever(search_kwargs={\"k\": 1})  # 1 doc to return max\n",
    "    )\n",
    "\n",
    "    answer = qa.invoke(prompt)\n",
    "    print(\"✅\")\n",
    "    return answer[\"result\"]"
   ]
  },
  {
   "cell_type": "code",
   "execution_count": 32,
   "metadata": {},
   "outputs": [],
   "source": [
    "PRODUCT_INPUT = \"Nike Men's Revolution 5 Running Shoes\"\n"
   ]
  },
  {
   "cell_type": "code",
   "execution_count": 9,
   "metadata": {},
   "outputs": [
    {
     "data": {
      "text/plain": [
       "[Document(page_content=\"Nike Men's Revolution 5 Running Shoes\")]"
      ]
     },
     "execution_count": 9,
     "metadata": {},
     "output_type": "execute_result"
    }
   ],
   "source": [
    "OPEN_API_KEY = os.environ.get('OPENAI_API_KEY')\n",
    "\n",
    "\n",
    "chunks = get_text_chunks(PRODUCT_INPUT)\n",
    "chunks"
   ]
  },
  {
   "cell_type": "code",
   "execution_count": 10,
   "metadata": {},
   "outputs": [
    {
     "name": "stdout",
     "output_type": "stream",
     "text": [
      "Embedding 1 texts... ✅\n"
     ]
    },
    {
     "data": {
      "text/plain": [
       "<langchain_community.vectorstores.chroma.Chroma at 0x7f071c7cbe50>"
      ]
     },
     "execution_count": 10,
     "metadata": {},
     "output_type": "execute_result"
    }
   ],
   "source": [
    "doc_search = embed_texts_openai(chunks, OPEN_API_KEY)\n",
    "doc_search"
   ]
  },
  {
   "cell_type": "code",
   "execution_count": 11,
   "metadata": {},
   "outputs": [
    {
     "name": "stdout",
     "output_type": "stream",
     "text": [
      "Running QA... ✅\n",
      "Product: Nike Men's Revolution 5 Running Shoes\n",
      "\n",
      "Some rating criteria:\n",
      "1. Comfort: How comfortable are the Nike Men's Revolution 5 Running Shoes to wear for long periods of time?\n",
      "2. Durability: How well do the shoes hold up over time with regular use?\n",
      "3. Fit: How true to size are the shoes and how well do they fit?\n",
      "4. Performance: How do the shoes perform during running or other physical activities?\n",
      "5. Style: What is your opinion on the design and style of the Nike Men's Revolution 5 Running Shoes?\n",
      "6. Value for Money: Are the shoes worth the price based on their quality and performance?\n"
     ]
    }
   ],
   "source": [
    "prompt = \"\"\"\n",
    "Given this product title, please select between 3 and 6 criteria to rate in order to compose a product review.\n",
    "\"\"\"\n",
    "answer = run_qa_openai(doc_search, prompt, OPEN_API_KEY)\n",
    "\n",
    "print(f\"Product: {PRODUCT_INPUT}\\n\")\n",
    "print(f\"Some rating criteria:\\n{answer}\")"
   ]
  },
  {
   "cell_type": "markdown",
   "metadata": {},
   "source": [
    "### B) Langchain - GPT4 all products and reviews"
   ]
  },
  {
   "cell_type": "markdown",
   "metadata": {},
   "source": [
    "### Model\n",
    "\n",
    "Pick a model from the \"Model Explorer\" section on the [GPT4All page](https://gpt4all.io/index.html)."
   ]
  },
  {
   "cell_type": "code",
   "execution_count": 12,
   "metadata": {},
   "outputs": [
    {
     "name": "stdout",
     "output_type": "stream",
     "text": [
      "** Resuming transfer from byte position 1979946720\n",
      "  % Total    % Received % Xferd  Average Speed   Time    Time     Time  Current\n",
      "                                 Dload  Upload   Total   Spent    Left  Speed\n",
      "100 27242    0 24606    0     0  60404      0 --:--:-- --:--:-- --:--:-- 60308  0 27242    0     0  66694      0 --:--:-- --:--:-- --:--:-- 66606\n",
      "total 5.5G\n",
      "-rw-r--r-- 1 shahab shahab 3.6G Jun 14 02:07 orca-2-7b.Q4_0.gguf\n",
      "-rw-r--r-- 1 shahab shahab 1.9G Jun 14 14:58 orca-mini-3b-gguf2-q4_0.gguf\n"
     ]
    }
   ],
   "source": [
    "#MODEL_NAME = 'orca-2-7b.Q4_0.gguf'  # Change here\n",
    "#MODEL_NAME = 'mistral-7b-openorca.gguf2.Q4_0.gguf'\n",
    "MODEL_NAME = 'orca-mini-3b-gguf2-q4_0.gguf'\n",
    "MODEL_PATH = '../models/' + MODEL_NAME\n",
    "\n",
    "# -C - option to continue transfer automatically (so reuse file if already downloaded)\n",
    "!curl -C - -o {MODEL_PATH} https://gpt4all.io/models/gguf/{MODEL_NAME}\n",
    "!ls -lh ../models"
   ]
  },
  {
   "cell_type": "code",
   "execution_count": 33,
   "metadata": {},
   "outputs": [],
   "source": [
    "# Callback that supports token-wise streaming but will only return the final output\n",
    "# rather than intermediary steps\n",
    "callbacks = [FinalStreamingStdOutCallbackHandler()]\n",
    "\n",
    "# verbose=True is required for the callback manager\n",
    "llm = GPT4All(model=MODEL_PATH, callbacks=callbacks, verbose=True)"
   ]
  },
  {
   "cell_type": "markdown",
   "metadata": {},
   "source": [
    "### LLM chain"
   ]
  },
  {
   "cell_type": "code",
   "execution_count": 34,
   "metadata": {},
   "outputs": [],
   "source": [
    "original_prompt = \"\"\"\n",
    "For this product, please produce exactly 6 criteria that could be rated by a user for a review. No more details needed. Each criterion should be numbered and described in detail.\n",
    "\n",
    "\"\"\"\n",
    "\n",
    "template = f\"\"\"Product: '{{product_type}}'\n",
    "{original_prompt}\"\"\"\n",
    "prompt = PromptTemplate(template=template, input_variables=[\"product_type\"])"
   ]
  },
  {
   "cell_type": "code",
   "execution_count": 36,
   "metadata": {},
   "outputs": [
    {
     "data": {
      "text/plain": [
       "PromptTemplate(input_variables=['product_type'], template=\"Product: '{product_type}'\\n\\nFor this product, please produce exactly 6 criteria that could be rated by a user for a review. No more details needed. Each criterion should be numbered and described in detail.\\n\\n\")"
      ]
     },
     "execution_count": 36,
     "metadata": {},
     "output_type": "execute_result"
    }
   ],
   "source": [
    "prompt"
   ]
  },
  {
   "cell_type": "code",
   "execution_count": 57,
   "metadata": {},
   "outputs": [
    {
     "data": {
      "text/plain": [
       "LLMChain(prompt=PromptTemplate(input_variables=['product_type'], template=\"Product: '{product_type}'\\n\\nFor this product, please produce exactly 6 criteria that could be rated by a user for a review. No more details needed. Each criterion should be numbered and described in detail.\\n\\n\"), llm=GPT4All(verbose=True, callbacks=[<langchain.callbacks.streaming_stdout_final_only.FinalStreamingStdOutCallbackHandler object at 0x7f05a80b1750>], model='../models/orca-mini-3b-gguf2-q4_0.gguf', client=<gpt4all.gpt4all.GPT4All object at 0x7f05a80b19f0>))"
      ]
     },
     "execution_count": 57,
     "metadata": {},
     "output_type": "execute_result"
    }
   ],
   "source": [
    "# Create the LLM chain\n",
    "llm_chain = LLMChain(prompt=prompt, llm=llm, return_final_only=True)\n",
    "llm_chain"
   ]
  },
  {
   "cell_type": "code",
   "execution_count": 20,
   "metadata": {},
   "outputs": [
    {
     "name": "stdout",
     "output_type": "stream",
     "text": [
      "1. Comfort - How well the shoes fit and provide comfort during long runs or workouts.\n",
      "2. Performance - How well the shoes perform on the feet, such as cushioning, support, and stability.\n",
      "3. Style - The appearance of the shoes, including color, design, and materials used.\n",
      "4. Durability - How long the shoes can withstand wear and tear, such as abrasion resistance and waterproofing.\n",
      "5. Price - The cost of the shoes in relation to their quality and features.\n",
      "6. Environmental Impact - The shoes' impact on the environment, including sustainability practices and eco-friendly materials used.\n",
      "CPU times: user 2min 34s, sys: 939 ms, total: 2min 35s\n",
      "Wall time: 40.2 s\n"
     ]
    }
   ],
   "source": [
    "%%time\n",
    "res = llm_chain.run(product_type=PRODUCT_INPUT)\n",
    "# Note that the result needs to be printed explicitly to be shown properly since\n",
    "# it contains line returns\n",
    "print(res)"
   ]
  },
  {
   "cell_type": "markdown",
   "metadata": {},
   "source": [
    "### Retrieval QA chain\n",
    "#### Prompt only\n"
   ]
  },
  {
   "cell_type": "code",
   "execution_count": 25,
   "metadata": {},
   "outputs": [],
   "source": [
    "#!pip install sentence-transformers --quiet"
   ]
  },
  {
   "cell_type": "code",
   "execution_count": 49,
   "metadata": {},
   "outputs": [],
   "source": [
    "EMBEDDING_MODEL = 'sentence-transformers/all-MiniLM-L6-v2'\n",
    "PERSIST_DIRECTORY = '../db/chroma_3/'\n",
    "\n",
    "\n",
    "def embed_texts_hg(texts):\n",
    "    print(f\"Embedding {len(texts)} texts...\", end=' ')\n",
    "\n",
    "    embedder = HuggingFaceEmbeddings(model_name=EMBEDDING_MODEL)\n",
    "    vector_db = Chroma.from_documents(\n",
    "        documents=texts,\n",
    "        embedding=embedder,\n",
    "        persist_directory=PERSIST_DIRECTORY\n",
    "\n",
    "    )\n",
    "    print(\"✅\")\n",
    "    return vector_db"
   ]
  },
  {
   "cell_type": "code",
   "execution_count": 50,
   "metadata": {},
   "outputs": [
    {
     "data": {
      "text/plain": [
       "[Document(page_content=\"Nike Men's Revolution 5 Running Shoes\")]"
      ]
     },
     "execution_count": 50,
     "metadata": {},
     "output_type": "execute_result"
    }
   ],
   "source": [
    "chunks\n"
   ]
  },
  {
   "cell_type": "code",
   "execution_count": 51,
   "metadata": {},
   "outputs": [],
   "source": [
    "#!pip install -U langchain-huggingface"
   ]
  },
  {
   "cell_type": "code",
   "execution_count": 53,
   "metadata": {},
   "outputs": [
    {
     "name": "stdout",
     "output_type": "stream",
     "text": [
      "Embedding 1 texts... ✅\n"
     ]
    },
    {
     "data": {
      "text/plain": [
       "<langchain_community.vectorstores.chroma.Chroma at 0x7f05a806ba60>"
      ]
     },
     "execution_count": 53,
     "metadata": {},
     "output_type": "execute_result"
    }
   ],
   "source": [
    "doc_search = embed_texts_hg(chunks)\n",
    "doc_search"
   ]
  },
  {
   "cell_type": "code",
   "execution_count": 54,
   "metadata": {},
   "outputs": [
    {
     "name": "stdout",
     "output_type": "stream",
     "text": [
      "Running QA... ✅\n",
      "\n",
      "1. Ease of Use - The shredder is easy to use and can handle up to six sheets of paper at once, making it convenient for those who need to shred frequently.\n",
      "2. Speed - The shredder has a fast shredding speed, which makes it ideal for quickly disposing of sensitive documents.\n",
      "3. Quality - The Amazon Basics 6-Sheet Cross-Cut Paper and Credit Card Shredder is made with high-quality materials and is designed to last for many years.\n",
      "4. Price - At $29.99, the shredder offers excellent value for money and provides a cost-effective solution for those who need to shred frequently.\n",
      "5. Size - The small bin capacity of 6 sheets makes it convenient for those who need to shred smaller amounts of paper.\n",
      "6. Maintenance - The shredder is easy to maintain, with removable parts that can be easily cleaned and sanitized after use.\n",
      "CPU times: user 8min 16s, sys: 9.89 s, total: 8min 26s\n",
      "Wall time: 2min 11s\n"
     ]
    }
   ],
   "source": [
    "%%time\n",
    "\n",
    "def run_qa_hg(doc_search, prompt):\n",
    "    print(f\"Running QA...\", end=' ')\n",
    "\n",
    "    qa = RetrievalQA.from_chain_type(\n",
    "        llm=llm,\n",
    "        chain_type=\"stuff\",  # the model 'stuffs' all our texts into a single prompt (sufficiently small)\n",
    "        retriever=doc_search.as_retriever(search_kwargs={\"k\": 1}),\n",
    "        return_source_documents=False,\n",
    "        verbose=False,\n",
    "    )\n",
    "\n",
    "    answer = qa.invoke(prompt)\n",
    "    print(\"✅\")\n",
    "    return answer[\"result\"]\n",
    "\n",
    "answer = run_qa_hg(doc_search, original_prompt)\n",
    "print(answer)"
   ]
  },
  {
   "cell_type": "markdown",
   "metadata": {},
   "source": [
    "## More context"
   ]
  },
  {
   "cell_type": "code",
   "execution_count": 25,
   "metadata": {},
   "outputs": [
    {
     "data": {
      "text/html": [
       "<div>\n",
       "<style scoped>\n",
       "    .dataframe tbody tr th:only-of-type {\n",
       "        vertical-align: middle;\n",
       "    }\n",
       "\n",
       "    .dataframe tbody tr th {\n",
       "        vertical-align: top;\n",
       "    }\n",
       "\n",
       "    .dataframe thead th {\n",
       "        text-align: right;\n",
       "    }\n",
       "</style>\n",
       "<table border=\"1\" class=\"dataframe\">\n",
       "  <thead>\n",
       "    <tr style=\"text-align: right;\">\n",
       "      <th></th>\n",
       "      <th>Product Name</th>\n",
       "      <th>Product Description</th>\n",
       "      <th>Review Text</th>\n",
       "      <th>Rating</th>\n",
       "    </tr>\n",
       "  </thead>\n",
       "  <tbody>\n",
       "    <tr>\n",
       "      <th>0</th>\n",
       "      <td>iPhone 15</td>\n",
       "      <td>The Apple iPhone 15 redefines smartphone innov...</td>\n",
       "      <td>The iPhone 15 is a masterpiece! The sleek desi...</td>\n",
       "      <td>{\"durability\": 5, \"ease of use\": 5, \"pleasant ...</td>\n",
       "    </tr>\n",
       "    <tr>\n",
       "      <th>1</th>\n",
       "      <td>MacBook Pro 2023</td>\n",
       "      <td>Experience the ultimate in computing power wit...</td>\n",
       "      <td>The MacBook Pro 2023 is a game-changer! The pe...</td>\n",
       "      <td>{\"durability\": 5, \"ease of use\": 5, \"pleasant ...</td>\n",
       "    </tr>\n",
       "    <tr>\n",
       "      <th>2</th>\n",
       "      <td>Kindle Paperwhite</td>\n",
       "      <td>Enjoy reading your favorite books anytime, any...</td>\n",
       "      <td>The Kindle Paperwhite is a must-have for book ...</td>\n",
       "      <td>{\"durability\": 5, \"ease of use\": 5, \"pleasant ...</td>\n",
       "    </tr>\n",
       "    <tr>\n",
       "      <th>3</th>\n",
       "      <td>Canon EOS R5</td>\n",
       "      <td>Capture life's moments in stunning detail with...</td>\n",
       "      <td>The Canon EOS R5 is a game-changer! The image ...</td>\n",
       "      <td>{\"durability\": 5, \"ease of use\": 5, \"pleasant ...</td>\n",
       "    </tr>\n",
       "    <tr>\n",
       "      <th>4</th>\n",
       "      <td>Nike Air Zoom Pegasus 38</td>\n",
       "      <td>Experience unparalleled comfort and performanc...</td>\n",
       "      <td>The Nike Air Zoom Pegasus 38 is a game-changer...</td>\n",
       "      <td>{\"durability\": 5, \"ease of use\": 4, \"pleasant ...</td>\n",
       "    </tr>\n",
       "  </tbody>\n",
       "</table>\n",
       "</div>"
      ],
      "text/plain": [
       "               Product Name  \\\n",
       "0                 iPhone 15   \n",
       "1          MacBook Pro 2023   \n",
       "2         Kindle Paperwhite   \n",
       "3              Canon EOS R5   \n",
       "4  Nike Air Zoom Pegasus 38   \n",
       "\n",
       "                                 Product Description  \\\n",
       "0  The Apple iPhone 15 redefines smartphone innov...   \n",
       "1  Experience the ultimate in computing power wit...   \n",
       "2  Enjoy reading your favorite books anytime, any...   \n",
       "3  Capture life's moments in stunning detail with...   \n",
       "4  Experience unparalleled comfort and performanc...   \n",
       "\n",
       "                                         Review Text  \\\n",
       "0  The iPhone 15 is a masterpiece! The sleek desi...   \n",
       "1  The MacBook Pro 2023 is a game-changer! The pe...   \n",
       "2  The Kindle Paperwhite is a must-have for book ...   \n",
       "3  The Canon EOS R5 is a game-changer! The image ...   \n",
       "4  The Nike Air Zoom Pegasus 38 is a game-changer...   \n",
       "\n",
       "                                              Rating  \n",
       "0  {\"durability\": 5, \"ease of use\": 5, \"pleasant ...  \n",
       "1  {\"durability\": 5, \"ease of use\": 5, \"pleasant ...  \n",
       "2  {\"durability\": 5, \"ease of use\": 5, \"pleasant ...  \n",
       "3  {\"durability\": 5, \"ease of use\": 5, \"pleasant ...  \n",
       "4  {\"durability\": 5, \"ease of use\": 4, \"pleasant ...  "
      ]
     },
     "execution_count": 25,
     "metadata": {},
     "output_type": "execute_result"
    }
   ],
   "source": [
    "\n",
    "df_reviews.head()"
   ]
  },
  {
   "cell_type": "code",
   "execution_count": 26,
   "metadata": {},
   "outputs": [
    {
     "name": "stdout",
     "output_type": "stream",
     "text": [
      "{'Product Name': 'iPhone 15', 'Product Description': 'The Apple iPhone 15 redefines smartphone innovation with its cutting-edge features and design.', 'Review Text': 'The iPhone 15 is a masterpiece! The sleek design, powerful performance, and advanced features make it the best smartphone on the market. Highly recommend!'}\n",
      "{'Product Name': 'MacBook Pro 2023', 'Product Description': 'Experience the ultimate in computing power with the MacBook Pro 2023, featuring blazing-fast performance and stunning Retina display.', 'Review Text': 'The MacBook Pro 2023 is a game-changer! The performance is lightning-fast, the Retina display is breathtaking, and the build quality is top-notch. Absolutely love it!'}\n",
      "{'Product Name': 'Kindle Paperwhite', 'Product Description': 'Enjoy reading your favorite books anytime, anywhere with the Kindle Paperwhite e-reader.', 'Review Text': 'The Kindle Paperwhite is a must-have for book lovers! The adjustable lighting, crisp display, and long battery life make it perfect for hours of reading. Highly recommend!'}\n"
     ]
    },
    {
     "name": "stderr",
     "output_type": "stream",
     "text": [
      "huggingface/tokenizers: The current process just got forked, after parallelism has already been used. Disabling parallelism to avoid deadlocks...\n",
      "To disable this warning, you can either:\n",
      "\t- Avoid using `tokenizers` before the fork if possible\n",
      "\t- Explicitly set the environment variable TOKENIZERS_PARALLELISM=(true | false)\n"
     ]
    }
   ],
   "source": [
    "CONTEXT_REVIEWS_FILE = 'context_reviews.txt'\n",
    "\n",
    "# records = df_reviews.drop(columns='Rating').to_json(orient='records')\n",
    "\n",
    "# List of dictionaries\n",
    "records = df_reviews.drop(columns='Rating').to_dict(orient='records')\n",
    "with open(CONTEXT_REVIEWS_FILE, 'w') as f:\n",
    "    f.writelines(map(lambda d: str(d) + '\\n', records))\n",
    "\n",
    "!head -3 {CONTEXT_REVIEWS_FILE}"
   ]
  },
  {
   "cell_type": "code",
   "execution_count": 28,
   "metadata": {},
   "outputs": [
    {
     "name": "stdout",
     "output_type": "stream",
     "text": [
      "Loading context_reviews.txt... ✅\n"
     ]
    },
    {
     "data": {
      "text/plain": [
       "(langchain_core.documents.base.Document, 106)"
      ]
     },
     "execution_count": 28,
     "metadata": {},
     "output_type": "execute_result"
    }
   ],
   "source": [
    "# Loading reviews rather than just one product name\n",
    "\n",
    "\n",
    "\n",
    "\n",
    "def load_file(file_path) -> list[Document]:\n",
    "    assert os.path.exists(file_path), f\"File not found: {file_path}\"\n",
    "\n",
    "    print(f\"Loading {file_path}...\", end=' ')\n",
    "    documents = TextLoader(file_path).load()\n",
    "\n",
    "    # A) Recursive splitter\n",
    "    splitter = RecursiveCharacterTextSplitter(\n",
    "        separators=['\\n'],\n",
    "        chunk_size=500, chunk_overlap=100\n",
    "    )\n",
    "    # B) Text splitter\n",
    "    # splitter = CharacterTextSplitter(chunk_size=1000, chunk_overlap=0)\n",
    "\n",
    "    texts = splitter.split_documents(documents)\n",
    "    print(\"✅\")\n",
    "    return texts\n",
    "\n",
    "review_chunks = load_file(CONTEXT_REVIEWS_FILE)\n",
    "type(review_chunks[0]), len(review_chunks)"
   ]
  },
  {
   "cell_type": "code",
   "execution_count": 56,
   "metadata": {},
   "outputs": [
    {
     "data": {
      "text/plain": [
       "Document(page_content=\"{'Product Name': 'iPhone 15', 'Product Description': 'The Apple iPhone 15 redefines smartphone innovation with its cutting-edge features and design.', 'Review Text': 'The iPhone 15 is a masterpiece! The sleek design, powerful performance, and advanced features make it the best smartphone on the market. Highly recommend!'}\", metadata={'source': 'context_reviews.txt'})"
      ]
     },
     "execution_count": 56,
     "metadata": {},
     "output_type": "execute_result"
    }
   ],
   "source": [
    "review_chunks[0]"
   ]
  },
  {
   "cell_type": "code",
   "execution_count": 29,
   "metadata": {},
   "outputs": [
    {
     "name": "stdout",
     "output_type": "stream",
     "text": [
      "Embedding 106 texts... "
     ]
    },
    {
     "name": "stderr",
     "output_type": "stream",
     "text": [
      "/home/shahab/.pyenv/versions/3.10.6/envs/review_env/lib/python3.10/site-packages/huggingface_hub/file_download.py:1132: FutureWarning: `resume_download` is deprecated and will be removed in version 1.0.0. Downloads always resume when possible. If you want to force a new download, use `force_download=True`.\n",
      "  warnings.warn(\n"
     ]
    },
    {
     "name": "stdout",
     "output_type": "stream",
     "text": [
      "✅\n"
     ]
    }
   ],
   "source": [
    "doc_search_2 = embed_texts_hg(review_chunks)"
   ]
  },
  {
   "cell_type": "code",
   "execution_count": 30,
   "metadata": {},
   "outputs": [
    {
     "data": {
      "text/plain": [
       "\"Product: 'Nike Men's Revolution 5 Running Shoes'\\n\\nFor this product, please produce exactly 6 criteria that could be rated by a user for a review. No more details needed. Each criterion should be numbered and described in detail.\\n\\n\""
      ]
     },
     "execution_count": 30,
     "metadata": {},
     "output_type": "execute_result"
    }
   ],
   "source": [
    "\n",
    "template_filled = f\"\"\"Product: '{{product_text}}'\n",
    "{original_prompt}\"\"\".format(product_text=PRODUCT_INPUT)\n",
    "template_filled"
   ]
  },
  {
   "cell_type": "code",
   "execution_count": 31,
   "metadata": {},
   "outputs": [
    {
     "name": "stdout",
     "output_type": "stream",
     "text": [
      "\n",
      "\n",
      "1. Comfort - The Nike Men's Revolution 5 Running Shoes are designed to provide comfort and support, with a breathable upper and cushioning that absorbs impact.\n",
      "2. Performance - These shoes are optimized for speed and agility, featuring a responsive sole and lightweight design.\n",
      "3. Style - The sleek black and white color scheme gives these running shoes a modern look, while the reflective details add visibility in low-light conditions.\n",
      "4. Durability - The Revolution 5 is made with high-quality materials that are durable and long-lasting, making them ideal for athletes who demand reliable performance.\n",
      "5. Fit - These shoes offer a secure fit, with a locked-down sole and responsive cushioning that supports the foot during every stride.\n",
      "6. Price - The Nike Men's Revolution 5 Running Shoes are priced competitively, making them an affordable option for runners of all levels.\n"
     ]
    }
   ],
   "source": [
    "qa_chain = RetrievalQA.from_chain_type(\n",
    "    llm=llm,\n",
    "    chain_type=\"stuff\",\n",
    "    retriever=doc_search_2.as_retriever(search_kwargs={\"k\": 1}),\n",
    "    return_source_documents=False,\n",
    "    verbose=False,\n",
    ")\n",
    "res = qa_chain.invoke(template_filled)\n",
    "print(res['result'])"
   ]
  }
 ],
 "metadata": {
  "kernelspec": {
   "display_name": "env_review",
   "language": "python",
   "name": "python3"
  },
  "language_info": {
   "codemirror_mode": {
    "name": "ipython",
    "version": 3
   },
   "file_extension": ".py",
   "mimetype": "text/x-python",
   "name": "python",
   "nbconvert_exporter": "python",
   "pygments_lexer": "ipython3",
   "version": "3.10.6"
  }
 },
 "nbformat": 4,
 "nbformat_minor": 2
}
